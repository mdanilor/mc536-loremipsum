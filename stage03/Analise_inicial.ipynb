{
 "cells": [
  {
   "cell_type": "code",
   "execution_count": 2,
   "metadata": {},
   "outputs": [],
   "source": [
    "%defaultDatasource jdbc:h2:mem:db"
   ]
  },
  {
   "cell_type": "markdown",
   "metadata": {},
   "source": [
    "# Analise de associação dos modelos lógicos\n",
    "* Nesta tarefa realizaremos a associação entre diferentes fontes de dados de forma a obter informações sobre a correlação de fatores relacionados aos pacientes infectados com hiv"
   ]
  },
  {
   "cell_type": "markdown",
   "metadata": {},
   "source": [
    "# Extração dos dados:\n",
    "* Extraímos os dados de 5 anos consecutivos das fontes de dados de gastos de saúde per capita, pacientes vivos com hiv e óbitos advindos do hiv de diversos países."
   ]
  },
  {
   "cell_type": "code",
   "execution_count": 3,
   "metadata": {},
   "outputs": [],
   "source": [
    "CREATE TABLE gasto_per_capita (\n",
    "  Country VARCHAR(12) NOT NULL,\n",
    "    countryname VARCHAR(60) not null,\n",
    "    y2007 float(30) not null,\n",
    "    y2008 float(30) not null,\n",
    "    y2009 float(30) not null,\n",
    "    y2010 float(30) not null,\n",
    "    y2011 float(30) not null,\n",
    "    PRIMARY KEY(Country)\n",
    ") AS SELECT\n",
    "    \"Country Code\",\n",
    "    \"Country Name\",\n",
    "    \"2007 [YR2007]\",\n",
    "    \"2008 [YR2008]\",\n",
    "    \"2009 [YR2009]\",\n",
    "    \"2010 [YR2010]\",\n",
    "    \"2011 [YR2011]\"\n",
    "FROM CSVREAD('../data/gasto_per_capita.csv')\n",
    "where \"2007 [YR2007]\" <> '..' and\n",
    "    \"2008 [YR2008]\" <> '..' and\n",
    "    \"2009 [YR2009]\" <> '..' and\n",
    "    \"2010 [YR2010]\" <> '..' and\n",
    "    \"2011 [YR2011]\" <> '..';\n",
    "    \n",
    "CREATE TABLE vivos_com_hiv (\n",
    "  Country VARCHAR(12) NOT NULL,\n",
    "    countryname VARCHAR(60) not null,\n",
    "    y2007 int not null,\n",
    "    y2008 int not null,\n",
    "    y2009 int not null,\n",
    "    y2010 int not null,\n",
    "    y2011 int not null,\n",
    "    primary key(Country)\n",
    ") AS SELECT\n",
    "    \"Country Code\",\n",
    "    \"Country Name\",\n",
    "    \"2007 [YR2007]\",\n",
    "    \"2008 [YR2008]\",\n",
    "    \"2009 [YR2009]\",\n",
    "    \"2010 [YR2010]\",\n",
    "    \"2011 [YR2011]\"\n",
    "FROM CSVREAD('../data/living_with_hiv.csv')\n",
    "where \"2007 [YR2007]\" <> '..' and\n",
    "    \"2008 [YR2008]\" <> '..' and\n",
    "    \"2009 [YR2009]\" <> '..' and\n",
    "    \"2010 [YR2010]\" <> '..' and\n",
    "    \"2011 [YR2011]\" <> '..';\n",
    "    \n",
    "CREATE TABLE obitos (\n",
    "  Country VARCHAR(12) NOT NULL,\n",
    "    countryname VARCHAR(60) not null,\n",
    "    y2007 int not null,\n",
    "    y2008 int not null,\n",
    "    y2009 int not null,\n",
    "    y2010 int not null,\n",
    "    y2011 int not null,\n",
    "    primary key(Country)\n",
    ") AS SELECT\n",
    "    \"Country Code\",\n",
    "    \"Country Name\",\n",
    "    \"2007 [YR2007]\",\n",
    "    \"2008 [YR2008]\",\n",
    "    \"2009 [YR2009]\",\n",
    "    \"2010 [YR2010]\",\n",
    "    \"2011 [YR2011]\"\n",
    "FROM CSVREAD('../data/obitos.csv')\n",
    "where \"2007 [YR2007]\" <> '..' and\n",
    "    \"2008 [YR2008]\" <> '..' and\n",
    "    \"2009 [YR2009]\" <> '..' and\n",
    "    \"2010 [YR2010]\" <> '..' and\n",
    "    \"2011 [YR2011]\" <> '..';"
   ]
  },
  {
   "cell_type": "markdown",
   "metadata": {},
   "source": [
    "# Análise associativa:\n",
    "* Relacionamos as diferentes tabelas de forma a encontrar uma relação entre os diferentes dados."
   ]
  },
  {
   "cell_type": "code",
   "execution_count": 4,
   "metadata": {},
   "outputs": [
    {
     "data": {
      "application/vnd.jupyter.widget-view+json": {
       "model_id": "158bf905-203a-436a-b835-c510b8165c3e",
       "version_major": 2,
       "version_minor": 0
      },
      "method": "display_data"
     },
     "metadata": {},
     "output_type": "display_data"
    },
    {
     "data": {
      "application/vnd.jupyter.widget-view+json": {
       "model_id": "273e6f72-fad4-425f-af27-10231383a0bd",
       "version_major": 2,
       "version_minor": 0
      },
      "method": "display_data"
     },
     "metadata": {},
     "output_type": "display_data"
    },
    {
     "data": {
      "application/vnd.jupyter.widget-view+json": {
       "model_id": "939b852c-87ad-4708-b315-9fc31d428035",
       "version_major": 2,
       "version_minor": 0
      },
      "method": "display_data"
     },
     "metadata": {},
     "output_type": "display_data"
    },
    {
     "data": {
      "application/vnd.jupyter.widget-view+json": {
       "model_id": "c7b36579-d00f-4a69-bdd4-94519d512dca",
       "version_major": 2,
       "version_minor": 0
      },
      "method": "display_data"
     },
     "metadata": {},
     "output_type": "display_data"
    },
    {
     "data": {
      "application/vnd.jupyter.widget-view+json": {
       "model_id": "079e7f6b-6bb1-446c-95cc-a6ae23a5eac7",
       "version_major": 2,
       "version_minor": 0
      },
      "method": "display_data"
     },
     "metadata": {},
     "output_type": "display_data"
    }
   ],
   "source": [
    "select country, gpc, ((0.0+mortes)/(0.0+vivos)) as ratio from(\n",
    "select vivos_com_hiv.country, vivos_com_hiv.y2007 as vivos, obitos.y2007 as mortes, gasto_per_capita.y2007 as gpc\n",
    "from vivos_com_hiv, gasto_per_capita, obitos\n",
    "where vivos_com_hiv.country = gasto_per_capita.country and vivos_com_hiv.country = obitos.country)\n",
    "where vivos > 0\n",
    "order by ratio asc;\n",
    "select country, gpc, ((0.0+mortes)/(0.0+vivos)) as ratio from(\n",
    "select vivos_com_hiv.country, vivos_com_hiv.countryname, vivos_com_hiv.y2008 as vivos, obitos.y2008 as mortes, gasto_per_capita.y2008 as gpc\n",
    "from vivos_com_hiv, gasto_per_capita, obitos\n",
    "where vivos_com_hiv.country = gasto_per_capita.country and vivos_com_hiv.country = obitos.country)\n",
    "where vivos > 0\n",
    "order by ratio asc;\n",
    "select country, gpc, ((0.0+mortes)/(0.0+vivos)) as ratio from(\n",
    "select vivos_com_hiv.country, vivos_com_hiv.y2009 as vivos, obitos.y2009 as mortes, gasto_per_capita.y2009 as gpc\n",
    "from vivos_com_hiv, gasto_per_capita, obitos\n",
    "where vivos_com_hiv.country = gasto_per_capita.country and vivos_com_hiv.country = obitos.country)\n",
    "where vivos > 0\n",
    "order by ratio asc;\n",
    "select country, gpc, ((0.0+mortes)/(0.0+vivos)) as ratio from(\n",
    "select vivos_com_hiv.country, vivos_com_hiv.y2010 as vivos, obitos.y2010 as mortes, gasto_per_capita.y2010 as gpc\n",
    "from vivos_com_hiv, gasto_per_capita, obitos\n",
    "where vivos_com_hiv.country = gasto_per_capita.country and vivos_com_hiv.country = obitos.country)\n",
    "where vivos > 0\n",
    "order by ratio asc;\n",
    "select country, gpc, ((0.0+mortes)/(0.0+vivos)) as ratio from(\n",
    "select vivos_com_hiv.country, vivos_com_hiv.y2011 as vivos, obitos.y2011 as mortes, gasto_per_capita.y2011 as gpc\n",
    "from vivos_com_hiv, gasto_per_capita, obitos\n",
    "where vivos_com_hiv.country = gasto_per_capita.country and vivos_com_hiv.country = obitos.country)\n",
    "where vivos > 0\n",
    "order by ratio asc;"
   ]
  },
  {
   "cell_type": "markdown",
   "metadata": {},
   "source": [
    "# Conclusões sobre a análise:\n",
    "* É possível observar que, em países que possuem um investimento per capita em saúde maior tendem a ter menos mortes por hiv nos infectados."
   ]
  },
  {
   "cell_type": "code",
   "execution_count": null,
   "metadata": {},
   "outputs": [],
   "source": []
  }
 ],
 "metadata": {
  "kernelspec": {
   "display_name": "SQL",
   "language": "SQL",
   "name": "sql"
  },
  "language_info": {
   "codemirror_mode": "sql",
   "file_extension": ".sql",
   "mimetype": "",
   "name": "SQL",
   "nbconverter_exporter": "",
   "version": ""
  }
 },
 "nbformat": 4,
 "nbformat_minor": 4
}
